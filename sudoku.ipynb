{
 "cells": [
  {
   "cell_type": "code",
   "execution_count": 88,
   "metadata": {},
   "outputs": [],
   "source": [
    "\n",
    "from selenium import webdriver\n",
    "from selenium.webdriver.common.by import By\n",
    "from selenium.webdriver.common.keys import Keys\n",
    "import pandas as pd\n",
    "import time\n",
    "from bs4 import BeautifulSoup\n",
    "from selenium.webdriver.support.ui import WebDriverWait\n",
    "from selenium.webdriver.support import expected_conditions as EC\n",
    "from selenium.webdriver.chrome.options import Options\n",
    "from selenium.webdriver.chrome.service import Service\n",
    "from selenium.webdriver import Keys, ActionChains\n",
    "import requests\n",
    "import numpy as np"
   ]
  },
  {
   "cell_type": "code",
   "execution_count": 89,
   "metadata": {},
   "outputs": [],
   "source": [
    "from selenium import webdriver\n",
    "\n",
    "driver=webdriver.Chrome()\n",
    "\n",
    "driver.get(\"https://absite.ru/sudoku/\")"
   ]
  },
  {
   "cell_type": "code",
   "execution_count": 90,
   "metadata": {},
   "outputs": [],
   "source": [
    "cells = WebDriverWait(driver, 10).until(\n",
    "    EC.presence_of_all_elements_located((By.CSS_SELECTOR, \"table.sudoku td\"))\n",
    ")\n",
    "\n",
    "grid = np.zeros((9, 9), dtype=int)\n",
    "\n",
    "for i, cell in enumerate(cells):\n",
    "    row = i // 9\n",
    "    col = i % 9\n",
    "    value = cell.text.strip()\n",
    "    if value.isdigit():\n",
    "        grid[row][col] = int(value)\n",
    "    "
   ]
  },
  {
   "cell_type": "code",
   "execution_count": 91,
   "metadata": {},
   "outputs": [
    {
     "data": {
      "text/plain": [
       "array([[0, 0, 0, 5, 6, 1, 0, 0, 0],\n",
       "       [2, 0, 0, 7, 8, 0, 6, 0, 1],\n",
       "       [0, 0, 0, 0, 0, 0, 0, 5, 0],\n",
       "       [6, 0, 3, 0, 0, 0, 1, 0, 0],\n",
       "       [4, 7, 0, 0, 0, 5, 0, 0, 8],\n",
       "       [0, 5, 0, 0, 0, 0, 0, 4, 3],\n",
       "       [0, 0, 4, 8, 2, 0, 0, 0, 7],\n",
       "       [0, 0, 7, 0, 0, 0, 0, 0, 0],\n",
       "       [0, 8, 0, 0, 1, 0, 0, 3, 0]])"
      ]
     },
     "execution_count": 91,
     "metadata": {},
     "output_type": "execute_result"
    }
   ],
   "source": [
    "grid"
   ]
  },
  {
   "cell_type": "code",
   "execution_count": 92,
   "metadata": {},
   "outputs": [],
   "source": [
    "def findNextCellToFill(grid, i, j):\n",
    "        for x in range(i,9):\n",
    "                for y in range(j,9):\n",
    "                        if grid[x][y] == 0:\n",
    "                                return x,y\n",
    "        for x in range(0,9):\n",
    "                for y in range(0,9):\n",
    "                        if grid[x][y] == 0:\n",
    "                                return x,y\n",
    "        return -1,-1\n",
    "\n",
    "def isValid(grid, i, j, e):\n",
    "        rowOk = all([e != grid[i][x] for x in range(9)])\n",
    "        if rowOk:\n",
    "                columnOk = all([e != grid[x][j] for x in range(9)])\n",
    "                if columnOk:\n",
    "                        # finding the top left x,y co-ordinates of the section containing the i,j cell\n",
    "                        secTopX, secTopY = 3 *(i//3), 3 *(j//3) #floored quotient should be used here. \n",
    "                        for x in range(secTopX, secTopX+3):\n",
    "                                for y in range(secTopY, secTopY+3):\n",
    "                                        if grid[x][y] == e:\n",
    "                                                return False\n",
    "                        return True\n",
    "        return False\n",
    "\n",
    "def solveSudoku(grid, i=0, j=0):\n",
    "        i,j = findNextCellToFill(grid, i, j)\n",
    "        if i == -1:\n",
    "                return True\n",
    "        for e in range(1,10):\n",
    "                if isValid(grid,i,j,e):\n",
    "                        grid[i][j] = e\n",
    "                        if solveSudoku(grid, i, j):\n",
    "                                return True\n",
    "                        # Undo the current cell for backtracking\n",
    "                        grid[i][j] = 0\n",
    "        return False"
   ]
  },
  {
   "cell_type": "code",
   "execution_count": 93,
   "metadata": {},
   "outputs": [
    {
     "data": {
      "text/plain": [
       "True"
      ]
     },
     "execution_count": 93,
     "metadata": {},
     "output_type": "execute_result"
    }
   ],
   "source": [
    "solveSudoku(grid)"
   ]
  },
  {
   "cell_type": "code",
   "execution_count": 94,
   "metadata": {},
   "outputs": [
    {
     "data": {
      "text/plain": [
       "array([[7, 4, 9, 5, 6, 1, 3, 8, 2],\n",
       "       [2, 3, 5, 7, 8, 4, 6, 9, 1],\n",
       "       [8, 1, 6, 3, 9, 2, 7, 5, 4],\n",
       "       [6, 2, 3, 9, 4, 8, 1, 7, 5],\n",
       "       [4, 7, 1, 2, 3, 5, 9, 6, 8],\n",
       "       [9, 5, 8, 1, 7, 6, 2, 4, 3],\n",
       "       [3, 6, 4, 8, 2, 9, 5, 1, 7],\n",
       "       [1, 9, 7, 4, 5, 3, 8, 2, 6],\n",
       "       [5, 8, 2, 6, 1, 7, 4, 3, 9]])"
      ]
     },
     "execution_count": 94,
     "metadata": {},
     "output_type": "execute_result"
    }
   ],
   "source": [
    "grid"
   ]
  },
  {
   "cell_type": "code",
   "execution_count": 102,
   "metadata": {},
   "outputs": [],
   "source": [
    "for row in grid:\n",
    "    for col in row:\n",
    "        ActionChains(driver)\\\n",
    "            .send_keys(int(col))\\\n",
    "            .perform()\n",
    "        ActionChains(driver)\\\n",
    "            .key_down(Keys.ARROW_RIGHT)\\\n",
    "            .perform()"
   ]
  }
 ],
 "metadata": {
  "kernelspec": {
   "display_name": "Python 3",
   "language": "python",
   "name": "python3"
  },
  "language_info": {
   "codemirror_mode": {
    "name": "ipython",
    "version": 3
   },
   "file_extension": ".py",
   "mimetype": "text/x-python",
   "name": "python",
   "nbconvert_exporter": "python",
   "pygments_lexer": "ipython3",
   "version": "3.12.3"
  }
 },
 "nbformat": 4,
 "nbformat_minor": 2
}
